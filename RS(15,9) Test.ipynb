{
 "cells": [
  {
   "cell_type": "code",
   "execution_count": 73,
   "id": "949b68d9",
   "metadata": {},
   "outputs": [],
   "source": [
    "import numpy as np\n",
    "import matplotlib.pyplot as plt\n",
    "import subprocess"
   ]
  },
  {
   "cell_type": "code",
   "execution_count": 74,
   "id": "43e70212",
   "metadata": {},
   "outputs": [],
   "source": [
    "def lut(c, x):\n",
    "    if(c == 0):\n",
    "        if x == 0: \n",
    "            return 0 \n",
    "        if x == 1:\n",
    "            return 1\n",
    "        if x == 2:\n",
    "            return 2\n",
    "        if x == 3: \n",
    "            return 4\n",
    "        if x == 4:\n",
    "            return 8\n",
    "        if x == 5: \n",
    "            return 3 \n",
    "        if x == 6:\n",
    "            return 6\n",
    "        if x == 7: \n",
    "            return 12 \n",
    "        if x == 8:\n",
    "            return 11\n",
    "        if x == 9:\n",
    "            return 5\n",
    "        if x == 10: \n",
    "            return 10 \n",
    "        if x == 11:\n",
    "            return 7\n",
    "        if x == 12: \n",
    "            return 14 \n",
    "        if x == 13:\n",
    "            return 15\n",
    "        if x == 14: \n",
    "            return 13\n",
    "        if x == 15:\n",
    "            return 9\n",
    "    if(c == 1):\n",
    "        if x == 0: \n",
    "            return 0 \n",
    "        if x == 1:\n",
    "            return 1\n",
    "        if x == 2:\n",
    "            return 2\n",
    "        if x == 4: \n",
    "            return 3\n",
    "        if x == 8:\n",
    "            return 4\n",
    "        if x == 3: \n",
    "            return 5\n",
    "        if x == 6:\n",
    "            return 6\n",
    "        if x == 12: \n",
    "            return 7 \n",
    "        if x == 11:\n",
    "            return 8\n",
    "        if x == 5:\n",
    "            return 9\n",
    "        if x == 10: \n",
    "            return 10 \n",
    "        if x == 7:\n",
    "            return 11\n",
    "        if x == 14: \n",
    "            return 12\n",
    "        if x == 15:\n",
    "            return 13\n",
    "        if x == 13: \n",
    "            return 14\n",
    "        if x == 9:\n",
    "            return 15"
   ]
  },
  {
   "cell_type": "code",
   "execution_count": 75,
   "id": "65bb4700",
   "metadata": {},
   "outputs": [],
   "source": [
    "# symbols, chip recieves binary input\n",
    "def mult(a,b):\n",
    "    if a == 0 or b == 0: \n",
    "        return 0 \n",
    "    else: \n",
    "        return (a-1 + b-1) % 15 + 1\n",
    "    \n",
    "# multiply coefficients of a polynomial by a constant\n",
    "def mult_poly_coeff(p, a):\n",
    "    m = []\n",
    "    for i in range(len(p)): \n",
    "        m.append(mult(p[i], a))\n",
    "    return m\n",
    "        "
   ]
  },
  {
   "cell_type": "code",
   "execution_count": 76,
   "id": "2fe17ee7",
   "metadata": {},
   "outputs": [],
   "source": [
    "# take in symbols, perform xor addition\n",
    "def add(a, b): \n",
    "    a_temp = lut(0, a)\n",
    "    b_temp = lut(0, b)\n",
    "    return lut(1, a_temp ^ b_temp)\n",
    "\n",
    "# add two polynomials\n",
    "def add_poly(a, b):\n",
    "    s = []\n",
    "    for i in range(len(a)):\n",
    "        s.append(add(a[i],b[i]))\n",
    "    return s\n",
    "    "
   ]
  },
  {
   "cell_type": "code",
   "execution_count": 77,
   "id": "d7261a90",
   "metadata": {},
   "outputs": [
    {
     "name": "stdout",
     "output_type": "stream",
     "text": [
      "[0, 0, 10, 0, 0, 0, 0, 0, 0, 2, 2, 8, 14, 4, 5]\n"
     ]
    }
   ],
   "source": [
    "M = [0, 0, 10, 0, 0, 0, 0, 0, 0, 0, 0, 0, 0, 0, 0] # M*X^n-k\n",
    "# perform multiplication by a power of X\n",
    "def shift_left(arr, n):\n",
    "    n = n % len(arr) \n",
    "    if n == 0:\n",
    "        return arr\n",
    "    else:\n",
    "        return arr[n:] + arr[:n]\n",
    "\n",
    "def compute_remainder(M):\n",
    "    # G = [1, 11, 15, 5, 7, 10, 7] \n",
    "    G = [0, 0, 0, 0, 0, 0, 0, 0, 1, 11, 15, 5, 7, 10, 7] # generator\n",
    "    T = M\n",
    "    for i in range(15):\n",
    "        t = T[i] \n",
    "        deg = 14-i\n",
    "        if(i == 9): \n",
    "            return T\n",
    "        elif(t == 0):\n",
    "            continue\n",
    "        else:\n",
    "            G_new = mult_poly_coeff(G, t)\n",
    "            temp = shift_left(G_new, deg-6)\n",
    "            T = add_poly(T, temp)\n",
    "            \n",
    "        \n",
    "    return -1\n",
    "               \n",
    "def compute_encoding(M):\n",
    "    CK = compute_remainder(M)\n",
    "    return M[0:9] + CK[9:]\n",
    "                \n",
    "\n",
    "C = compute_encoding(M)\n",
    "    \n",
    "    \n",
    "    \n",
    "print(C)\n",
    "    "
   ]
  },
  {
   "cell_type": "code",
   "execution_count": 78,
   "id": "19182830",
   "metadata": {},
   "outputs": [],
   "source": [
    "# generate source that sends symbols, returns message in terms of symbols\n",
    "def generate_test_vectors(n):\n",
    "    v = []\n",
    "    sym = []\n",
    "    for i in range(n): \n",
    "        v_ = list(np.random.randint(0, 15, 9))\n",
    "        for i in range(6): \n",
    "            v_.append(0)\n",
    "        v.append(v_)\n",
    "        \n",
    "    # write test vectors to source file\n",
    "    FILE = open(\"source.act\", \"w\")\n",
    "    FILE.write(\"defproc source_tst(chan(int<4>)!X) { \\n\")\n",
    "    FILE.write(\"  chp { \\n\")\n",
    "    for j, m in enumerate(v):\n",
    "        for i in range(9):\n",
    "            if j == n - 1 and i == 8:\n",
    "                FILE.write(\"    X!{0}; log(\\\"Sent \\\", {0}) \\n\".format(m[i]))\n",
    "            else:\n",
    "                FILE.write(\"    X!{0}; log(\\\"Sent \\\", {0}); \\n\".format(m[i]))\n",
    "    FILE.write(\"  }\\n\")\n",
    "    FILE.write(\"}\\n\")\n",
    "    \n",
    "    #subprocess.call(\"actsim test_RS.act test < cmd.src > test.txt\", shell=True)\n",
    "    \n",
    "    \n",
    "    return v\n",
    "\n",
    "p = generate_test_vectors(10)"
   ]
  },
  {
   "cell_type": "code",
   "execution_count": 79,
   "id": "4b53c591",
   "metadata": {},
   "outputs": [],
   "source": [
    "def check_output(outfile, message): \n",
    "    exp = []\n",
    "    for m in message: \n",
    "        C = compute_encoding(m)\n",
    "        for c in C:\n",
    "            exp.append(c)\n",
    "        \n",
    "        \n",
    "    FILE = open(outfile, \"r\")\n",
    "    received = []\n",
    "    sent = []\n",
    "    for line in FILE: \n",
    "        line_token = line.split(\" \")\n",
    "        if \"Received\" in line_token: \n",
    "            received.append(int(line_token[-1]))\n",
    "        if \"Sent\" in line_token: \n",
    "            sent.append(int(line_token[-1]))\n",
    "        \n",
    "    #plt.plot(received[15:])\n",
    "    plt.plot(exp,received[15:])\n",
    "    e = np.sum(np.array(exp) - np.array(received[15:]))\n",
    "    return e"
   ]
  },
  {
   "cell_type": "code",
   "execution_count": 80,
   "id": "47b57728",
   "metadata": {},
   "outputs": [
    {
     "data": {
      "text/plain": [
       "0"
      ]
     },
     "execution_count": 80,
     "metadata": {},
     "output_type": "execute_result"
    },
    {
     "data": {
      "image/png": "[encoded data removed]",
      "text/plain": [
       "<Figure size 640x480 with 1 Axes>"
      ]
     },
     "metadata": {},
     "output_type": "display_data"
    }
   ],
   "source": [
    "e = check_output(\"test.txt\", p)\n",
    "e"
   ]
  },
  {
   "cell_type": "code",
   "execution_count": null,
   "id": "61acd3ea",
   "metadata": {},
   "outputs": [],
   "source": []
  }
 ],
 "metadata": {
  "kernelspec": {
   "display_name": "Python 3 (ipykernel)",
   "language": "python",
   "name": "python3"
  },
  "language_info": {
   "codemirror_mode": {
    "name": "ipython",
    "version": 3
   },
   "file_extension": ".py",
   "mimetype": "text/x-python",
   "name": "python",
   "nbconvert_exporter": "python",
   "pygments_lexer": "ipython3",
   "version": "3.11.4"
  }
 },
 "nbformat": 4,
 "nbformat_minor": 5
}
